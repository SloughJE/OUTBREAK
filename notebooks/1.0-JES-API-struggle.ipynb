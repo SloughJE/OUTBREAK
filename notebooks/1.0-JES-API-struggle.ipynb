{
 "cells": [
  {
   "cell_type": "code",
   "execution_count": null,
   "metadata": {},
   "outputs": [],
   "source": [
    "import pandas as pd"
   ]
  },
  {
   "cell_type": "code",
   "execution_count": null,
   "metadata": {},
   "outputs": [],
   "source": [
    "from dotenv import load_dotenv\n",
    "import os\n",
    "\n",
    "# Load environment variables from .env file\n",
    "load_dotenv()"
   ]
  },
  {
   "cell_type": "code",
   "execution_count": null,
   "metadata": {},
   "outputs": [],
   "source": [
    "nndss_app_token = os.getenv('NNDSS_APP_TOKEN')"
   ]
  },
  {
   "cell_type": "code",
   "execution_count": null,
   "metadata": {},
   "outputs": [],
   "source": [
    "from datetime import datetime, timedelta\n",
    "\n",
    "def get_year_week_from_date(date):\n",
    "    \"\"\"Returns the year and week number for a given date.\"\"\"\n",
    "    year, week, _ = date.isocalendar()\n",
    "    return year, week\n",
    "\n",
    "# Current date\n",
    "current_date = datetime.now()\n",
    "\n",
    "# First day of the current month\n",
    "first_day_current_month = current_date.replace(day=1)\n",
    "\n",
    "# Last day of the last month\n",
    "last_day_last_month = first_day_current_month - timedelta(days=1)\n",
    "\n",
    "# First day of the last month\n",
    "first_day_last_month = last_day_last_month.replace(day=1)\n",
    "\n",
    "# Get year and week number for the start and end of the last month\n",
    "start_year, start_week = get_year_week_from_date(first_day_last_month)\n",
    "end_year, end_week = get_year_week_from_date(last_day_last_month)\n",
    "\n",
    "# Display the year and week range\n",
    "print(f\"Start of Last Month: Year = {start_year}, Week = {start_week}\")\n",
    "print(f\"End of Last Month: Year = {end_year}, Week = {end_week}\")\n"
   ]
  },
  {
   "cell_type": "code",
   "execution_count": null,
   "metadata": {},
   "outputs": [],
   "source": [
    "# Calculate the previous month's MMWR week and year (This is a placeholder - you'll need to determine the actual logic based on MMWR calendar)\n",
    "last_month = datetime.now().replace(day=1) - timedelta(days=1)\n",
    "mmwr_week = last_month.strftime('%U')  # This is not the actual MMWR week, you'll need the MMWR calendar for this\n",
    "mmwr_year = last_month.strftime('%Y')\n",
    "# Construct the API URL with the MMWR week and year for the last month\n",
    "# You'll need to replace 'MMWR_WEEK' and 'MMWR_YEAR' with actual fields from the dataset if they're different\n",
    "url = f\"https://data.cdc.gov/resource/x9gk-5huc.json?$$app_token={nndss_app_token}&$where=mmwr_week='{mmwr_week}' AND mmwr_year='{mmwr_year}'\"\n",
    "\n",
    "#print(url)"
   ]
  },
  {
   "cell_type": "code",
   "execution_count": null,
   "metadata": {},
   "outputs": [],
   "source": [
    "year = 2023\n",
    "week = 2\n",
    "state = 'CALIFORNIA'\n",
    "label = 'Chlamydia trachomatis infection'\n",
    "\n",
    "query_url = f\"https://data.cdc.gov/resource/x9gk-5huc.json?$$app_token={nndss_app_token}&$where=year='{year}' AND states='{state}' AND label='{label}'\"\n",
    "\n",
    "#print(query_url)"
   ]
  },
  {
   "cell_type": "code",
   "execution_count": null,
   "metadata": {},
   "outputs": [],
   "source": [
    "import requests\n"
   ]
  },
  {
   "cell_type": "code",
   "execution_count": null,
   "metadata": {},
   "outputs": [],
   "source": [
    "# Make the API request\n",
    "response = requests.get(query_url)\n",
    "data = response.json()"
   ]
  },
  {
   "cell_type": "code",
   "execution_count": null,
   "metadata": {},
   "outputs": [],
   "source": [
    "data[0]"
   ]
  },
  {
   "cell_type": "code",
   "execution_count": null,
   "metadata": {},
   "outputs": [],
   "source": [
    "df = pd.DataFrame(data)\n",
    "df.head()"
   ]
  },
  {
   "cell_type": "code",
   "execution_count": null,
   "metadata": {},
   "outputs": [],
   "source": [
    "# df "
   ]
  },
  {
   "cell_type": "code",
   "execution_count": null,
   "metadata": {},
   "outputs": [],
   "source": [
    "base_url = \"https://data.cdc.gov/resource/x9gk-5huc.json\"\n",
    "\n",
    "# Initialize parameters for pagination\n",
    "limit = 50000  # Adjust based on your preference and the API's capabilities\n",
    "offset = 0\n",
    "data = []\n",
    "\n",
    "while True:\n",
    "    query_url = f\"{base_url}?$$app_token={nndss_app_token}&$limit={limit}&$offset={offset}\"\n",
    "    response = requests.get(query_url)\n",
    "    \n",
    "    if response.status_code != 200:\n",
    "        print(f\"Failed to fetch data: {response.status_code}\")\n",
    "        break\n",
    "    \n",
    "    batch = response.json()\n",
    "    \n",
    "    if not batch:\n",
    "        # If the batch is empty, we've reached the end of the dataset\n",
    "        break\n",
    "    \n",
    "    data.extend(batch)\n",
    "    offset += limit\n",
    "    print(f\"Fetched {len(batch)} rows, total: {len(data)}\")\n",
    "\n"
   ]
  },
  {
   "cell_type": "code",
   "execution_count": null,
   "metadata": {},
   "outputs": [],
   "source": [
    "# Convert to DataFrame\n",
    "df = pd.DataFrame(data)\n",
    "print(f\"Total rows fetched: {len(df)}\")"
   ]
  },
  {
   "cell_type": "code",
   "execution_count": null,
   "metadata": {},
   "outputs": [],
   "source": [
    "df.head()"
   ]
  },
  {
   "cell_type": "code",
   "execution_count": null,
   "metadata": {},
   "outputs": [],
   "source": [
    "import requests\n",
    "import json\n",
    "\n",
    "base_url = \"https://data.cdc.gov/resource/x9gk-5huc.json\"\n",
    "\n",
    "\n",
    "# Fetch the most recent records based on year and week, where location1 is not null\n",
    "query_url = f\"{base_url}?$$app_token={nndss_app_token}&$order=year DESC, week DESC&$where=location1 IS NOT NULL&$limit=1\"\n",
    "\n",
    "response = requests.get(query_url)\n",
    "\n",
    "if response.status_code == 200:\n",
    "    latest_record = response.json()\n",
    "    if latest_record:\n",
    "        # Extract the year and week from the most recent record\n",
    "        latest_year = latest_record[0]['year']\n",
    "        latest_week = latest_record[0]['week']\n",
    "        \n",
    "        # Now fetch all records for the most recent year and week, where location1 is not null\n",
    "        week_data_query_url = f\"{base_url}?$$app_token={nndss_app_token}&$where=year='{latest_year}' AND week='{latest_week}' AND location1 IS NOT NULL\"\n",
    "        week_data_response = requests.get(week_data_query_url)\n",
    "        \n",
    "        if week_data_response.status_code == 200:\n",
    "            latest_week_data = week_data_response.json()\n",
    "            print(f\"Data for the most recent week of year {latest_year}, week {latest_week}, where location1 is not null: {json.dumps(latest_week_data[0], indent=2)}\")\n",
    "        else:\n",
    "            print(f\"Failed to fetch data for the latest week: {week_data_response.status_code}\")\n",
    "    else:\n",
    "        print(\"No recent data found.\")\n",
    "else:\n",
    "    print(f\"Failed to fetch the latest data: {response.status_code}\")\n"
   ]
  },
  {
   "cell_type": "code",
   "execution_count": null,
   "metadata": {},
   "outputs": [],
   "source": [
    "pd.DataFrame(latest_week_data)"
   ]
  },
  {
   "cell_type": "code",
   "execution_count": null,
   "metadata": {},
   "outputs": [],
   "source": [
    "df.to_pickle(\"../data/raw/NNDSS.pkl\")"
   ]
  },
  {
   "cell_type": "code",
   "execution_count": null,
   "metadata": {},
   "outputs": [],
   "source": []
  }
 ],
 "metadata": {
  "kernelspec": {
   "display_name": "Python 3",
   "language": "python",
   "name": "python3"
  },
  "language_info": {
   "codemirror_mode": {
    "name": "ipython",
    "version": 3
   },
   "file_extension": ".py",
   "mimetype": "text/x-python",
   "name": "python",
   "nbconvert_exporter": "python",
   "pygments_lexer": "ipython3",
   "version": "3.11.8"
  }
 },
 "nbformat": 4,
 "nbformat_minor": 2
}
