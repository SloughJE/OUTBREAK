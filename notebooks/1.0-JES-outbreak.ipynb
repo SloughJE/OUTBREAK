{
 "cells": [
  {
   "cell_type": "code",
   "execution_count": null,
   "metadata": {},
   "outputs": [],
   "source": [
    "import pandas as pd\n",
    "import numpy as np\n",
    "import plotly.graph_objects as go\n",
    "import glob\n"
   ]
  },
  {
   "cell_type": "code",
   "execution_count": null,
   "metadata": {},
   "outputs": [],
   "source": [
    "df_preds = pd.read_pickle(\"../data/results/df_preds_2024-03-04.pkl\")\n",
    "df_latest = pd.read_pickle(\"../data/interim/df_NNDSS_latest.pkl\")\n",
    "df_historical = pd.read_pickle(\"../data/interim/df_NNDSS_historical.pkl\")"
   ]
  },
  {
   "cell_type": "code",
   "execution_count": null,
   "metadata": {},
   "outputs": [],
   "source": [
    "df_preds = pd.read_parquet(\"../dash_app/data/predictions.parquet\")\n",
    "df_latest = pd.read_parquet(\"../dash_app/data/latest.parquet\")\n",
    "df_historical = pd.read_parquet(\"../dash_app/data/historical.parquet\")\n",
    "df_preds = df_preds.rename(columns={'prediction_for_date': 'date'})\n",
    "\n",
    "df_historical = df_historical.sort_values(['date','item_id'])\n",
    "df_preds = df_preds.sort_values(['date','item_id'])\n",
    "df_latest = df_latest.sort_values(['date','item_id'])"
   ]
  },
  {
   "cell_type": "code",
   "execution_count": null,
   "metadata": {},
   "outputs": [],
   "source": [
    "df_historical.dtypes"
   ]
  },
  {
   "cell_type": "code",
   "execution_count": null,
   "metadata": {},
   "outputs": [],
   "source": [
    "df_preds.dtypes"
   ]
  },
  {
   "cell_type": "code",
   "execution_count": null,
   "metadata": {},
   "outputs": [],
   "source": [
    "df_latest.dtypes"
   ]
  },
  {
   "cell_type": "code",
   "execution_count": null,
   "metadata": {},
   "outputs": [],
   "source": [
    "df_preds.head()"
   ]
  },
  {
   "cell_type": "code",
   "execution_count": null,
   "metadata": {},
   "outputs": [],
   "source": [
    "df_latest[df_latest.new_cases>0].head(11)"
   ]
  },
  {
   "cell_type": "code",
   "execution_count": null,
   "metadata": {},
   "outputs": [],
   "source": [
    "selected_item_id = \"CALIFORNIA_Campylobacteriosis\"\n",
    "df_latest.loc[\n",
    "(df_latest['item_id'] == selected_item_id) & \n",
    "(df_latest['date'] == \"2024-03-04\"), \n",
    "'new_cases'] = 750 "
   ]
  },
  {
   "cell_type": "code",
   "execution_count": null,
   "metadata": {},
   "outputs": [],
   "source": [
    "df_latest[df_latest.new_cases>0].head(8)"
   ]
  },
  {
   "cell_type": "code",
   "execution_count": null,
   "metadata": {},
   "outputs": [],
   "source": [
    "df_historical[df_historical.new_cases>=0].item_id.unique()"
   ]
  },
  {
   "cell_type": "code",
   "execution_count": null,
   "metadata": {},
   "outputs": [],
   "source": [
    "df_latest[df_latest.item_id=='ARIZONA_Campylobacteriosis']"
   ]
  },
  {
   "cell_type": "code",
   "execution_count": null,
   "metadata": {},
   "outputs": [],
   "source": [
    "df_historical[df_historical.item_id=='ARIZONA_Campylobacteriosis']"
   ]
  },
  {
   "cell_type": "code",
   "execution_count": null,
   "metadata": {},
   "outputs": [],
   "source": [
    "len(df_historical[df_historical.item_id=='ARIZONA_Campylobacteriosis'].drop_duplicates())"
   ]
  },
  {
   "cell_type": "code",
   "execution_count": null,
   "metadata": {},
   "outputs": [],
   "source": [
    "def plot_outbreak(df_historical_chart, df_latest_chart, df_preds_chart, selected_item_id):\n",
    "    \n",
    "    \n",
    "\n",
    "    fig = go.Figure(layout_template=\"plotly_dark\")\n",
    "    \n",
    "    # Initialize pred_upper with a default value\n",
    "    pred_upper = None\n",
    "    \n",
    "    # Filter datasets for the selected item_id\n",
    "    df_historical_filtered = df_historical_chart[df_historical_chart['item_id'] == selected_item_id]\n",
    "    df_latest_filtered = df_latest_chart[df_latest_chart['item_id'] == selected_item_id]\n",
    "    df_preds_filtered = df_preds_chart[df_preds_chart['item_id'] == selected_item_id]\n",
    "\n",
    "    # Plot historical data if available\n",
    "    if not df_historical_filtered.empty:\n",
    "        fig.add_trace(go.Scatter(x=df_historical_filtered['date'], y=df_historical_filtered['new_cases'], mode='lines', name='Historical', line=dict(color='skyblue')))\n",
    "\n",
    "    # Plot prediction data if available\n",
    "    if not df_preds_filtered.empty:\n",
    "        pred_date = df_preds_filtered['date'].iloc[0]\n",
    "        pred_mean = df_preds_filtered['pred_mean'].iloc[0]\n",
    "        pred_lower = df_preds_filtered['pred_lower'].iloc[0]\n",
    "        pred_upper = df_preds_filtered['pred_upper'].iloc[0]\n",
    "        \n",
    "        # Include error bars for the prediction interval\n",
    "        fig.add_trace(go.Scatter(x=[pred_date], y=[pred_mean], mode='lines', name='Prediction Interval', \n",
    "            error_y=dict(type='data', symmetric=False, array=[pred_upper - pred_mean], arrayminus=[pred_mean - pred_lower]), marker=dict(color='#FF6347', size=12)))\n",
    "        fig.add_trace(go.Scatter(x=[pred_date], y=[pred_mean], mode='markers', name='Prediction', marker=dict(color='#FF6347', size=12)))\n",
    "\n",
    "    # Plot latest data if available\n",
    "    if not df_latest_filtered.empty:\n",
    "        fig.add_trace(go.Scatter(x=df_latest_filtered['date'], y=df_latest_filtered['new_cases'], mode='markers', name='Latest', marker=dict(color='#3CB371', size=12)))\n",
    "\n",
    "    # Check for potential outbreak and update marker if present\n",
    "    if pred_upper is not None and not df_latest_filtered.empty and df_latest_filtered['new_cases'].iloc[0] > pred_upper:\n",
    "        outbreak_date = df_latest_filtered['date'].iloc[0]\n",
    "        outbreak_cases = df_latest_filtered['new_cases'].iloc[0]\n",
    "        fig.add_trace(go.Scatter(x=[outbreak_date], y=[outbreak_cases], mode='markers+text', \n",
    "            name='Potential Outbreak', marker=dict(color='yellow', size=15, symbol='x', line=dict(color='#B22222', width=2)), text=\"Potential Outbreak\", textposition=\"top center\"))\n",
    "    else:\n",
    "        fig.add_trace(go.Scatter(x=[None], y=[None], mode='markers+text', name='Potential Outbreak',\n",
    "                         marker=dict(color='#DAA520', size=15, symbol='x', line=dict(color='#800000', width=2)),\n",
    "                         text=\"Potential Outbreak\", textposition=\"top center\", visible='legendonly'))\n",
    "\n",
    "    # Add legend-only traces to ensure all possible data representations are covered in the legend\n",
    "    if df_historical_filtered.empty:\n",
    "        fig.add_trace(go.Scatter(x=[None], y=[None], mode='lines', name='Historical',\n",
    "                                 line=dict(color='skyblue'), visible='legendonly'))\n",
    "    if df_latest_filtered.empty:\n",
    "        fig.add_trace(go.Scatter(x=[None], y=[None], mode='markers', name='Latest',\n",
    "                                 marker=dict(color='#98FF98', size=12), visible='legendonly'))\n",
    "    if df_preds_filtered.empty:\n",
    "        fig.add_trace(go.Scatter(x=[None], y=[None], mode='markers', name='Prediction',\n",
    "                                 marker=dict(color='darkred', size=12), visible='legendonly'))\n",
    "        fig.add_trace(go.Scatter(x=[None], y=[None], mode='lines', name='Prediction Interval',\n",
    "                                 line=dict(color='red'), visible='legendonly'))\n",
    "\n",
    "\n",
    "    fig.update_layout(title=f\"{selected_item_id}\", xaxis_title=\"Date\", yaxis_title=\"New Cases\")\n",
    "    fig.show()\n"
   ]
  },
  {
   "cell_type": "code",
   "execution_count": null,
   "metadata": {},
   "outputs": [],
   "source": [
    "# chart shows: we have historical, latest, pred/interval, and NO outbreak\n",
    "selected_item_id = \"ARIZONA_Campylobacteriosis\"\n",
    "plot_outbreak(df_historical, df_latest,  df_preds, selected_item_id)"
   ]
  },
  {
   "cell_type": "code",
   "execution_count": null,
   "metadata": {},
   "outputs": [],
   "source": [
    "# chart shows: we have historical, pred/interval, NO latest and therefore NO outbreak\n",
    "selected_item_id = \"ARKANSAS_Chlamydia trachomatis infection\"\n",
    "plot_outbreak(df_historical, df_latest,  df_preds, selected_item_id)"
   ]
  },
  {
   "cell_type": "code",
   "execution_count": null,
   "metadata": {},
   "outputs": [],
   "source": [
    "# chart shows: we have historical, pred/interval, latest and OUTBREAK\n",
    "selected_item_id = \"CALIFORNIA_Campylobacteriosis\"\n",
    "plot_outbreak(df_historical, df_latest,  df_preds, selected_item_id)"
   ]
  },
  {
   "cell_type": "code",
   "execution_count": null,
   "metadata": {},
   "outputs": [],
   "source": [
    "# chart shows: we have latest and nothing else\n",
    "selected_item_id = \"FLORIDA_Campylobacteriosis\"\n",
    "selected_item_id = \"VIRGINIA_Botulism, Infant\"\n",
    "plot_outbreak(df_historical, df_latest,  df_preds, selected_item_id)"
   ]
  },
  {
   "cell_type": "code",
   "execution_count": null,
   "metadata": {},
   "outputs": [],
   "source": []
  },
  {
   "cell_type": "code",
   "execution_count": null,
   "metadata": {},
   "outputs": [],
   "source": []
  },
  {
   "cell_type": "code",
   "execution_count": null,
   "metadata": {},
   "outputs": [],
   "source": [
    "# if the last data point in the trained dataset (ie the last date) are ALL NA's for all time series ( OR 0!),\n",
    "# all preds for next step will be 0. At least one has to be non NA/0 to get actual predictions. ugh. \n",
    "# yup confirmed this.\n",
    "# this may only be true for the one step ahead forecast, "
   ]
  },
  {
   "cell_type": "code",
   "execution_count": null,
   "metadata": {},
   "outputs": [],
   "source": [
    "df_hist = pd.read_parquet(\"../data/interim/df_NNDSS_historical.parquet\")\n",
    "df_hist[(df_hist.item_id=='COLORADO_Chlamydia trachomatis infection')]"
   ]
  },
  {
   "cell_type": "code",
   "execution_count": null,
   "metadata": {},
   "outputs": [],
   "source": [
    "df_hist = pd.read_parquet(\"../data/interim/df_NNDSS_historical.parquet\")\n",
    "df_hist[(df_hist.item_id=='COLORADO_Chlamydia trachomatis infection')]"
   ]
  },
  {
   "cell_type": "code",
   "execution_count": null,
   "metadata": {},
   "outputs": [],
   "source": [
    "df_hist[df_hist.item_id=='ALABAMA_Anthrax']"
   ]
  },
  {
   "cell_type": "code",
   "execution_count": null,
   "metadata": {},
   "outputs": [],
   "source": [
    "df_hist = df_hist.drop(columns=\"filled_value\")\n",
    "df_hist"
   ]
  },
  {
   "cell_type": "code",
   "execution_count": null,
   "metadata": {},
   "outputs": [],
   "source": [
    "df_hist[df_hist.new_cases.notna()]"
   ]
  },
  {
   "cell_type": "code",
   "execution_count": null,
   "metadata": {},
   "outputs": [],
   "source": [
    "df_hist.to_parquet(\"../data/interim/df_NNDSS_historical_mod.parquet\",index=False)"
   ]
  },
  {
   "cell_type": "code",
   "execution_count": null,
   "metadata": {},
   "outputs": [],
   "source": [
    "df_hist = pd.read_parquet(\"../data/interim/df_NNDSS_historical_mod.parquet\")\n",
    "df_hist.head()"
   ]
  },
  {
   "cell_type": "code",
   "execution_count": null,
   "metadata": {},
   "outputs": [],
   "source": [
    "df_hist.dtypes"
   ]
  },
  {
   "cell_type": "code",
   "execution_count": null,
   "metadata": {},
   "outputs": [],
   "source": [
    "df_weekly_actuals = pd.read_parquet(\"../data/interim/weekly_actuals_2024-03-11.parquet\")\n",
    "df_weekly_actuals"
   ]
  },
  {
   "cell_type": "code",
   "execution_count": null,
   "metadata": {},
   "outputs": [],
   "source": [
    "df = pd.read_parquet(\"../data/results/df_preds_2024-03-04.parquet\")"
   ]
  },
  {
   "cell_type": "code",
   "execution_count": null,
   "metadata": {},
   "outputs": [],
   "source": [
    "df.head()"
   ]
  },
  {
   "cell_type": "code",
   "execution_count": null,
   "metadata": {},
   "outputs": [],
   "source": [
    "df[df.pred_mean>1]"
   ]
  },
  {
   "cell_type": "code",
   "execution_count": null,
   "metadata": {},
   "outputs": [],
   "source": [
    "df.dtypes"
   ]
  },
  {
   "cell_type": "code",
   "execution_count": null,
   "metadata": {},
   "outputs": [],
   "source": [
    "df_historical = pd.read_parquet(\"../dash_app/data/historical.parquet\")\n",
    "print(df_historical.date.max())\n",
    "df_historical.head(2)"
   ]
  },
  {
   "cell_type": "code",
   "execution_count": null,
   "metadata": {},
   "outputs": [],
   "source": [
    "df_preds1 = pd.read_parquet(\"../data/results/weekly_predictions_2024-02-12.parquet\")\n",
    "df_preds2 = pd.read_parquet(\"../data/results/weekly_predictions_2024-02-19.parquet\")\n",
    "df_preds3 = pd.read_parquet(\"../data/results/weekly_predictions_2024-03-04.parquet\")"
   ]
  },
  {
   "cell_type": "code",
   "execution_count": null,
   "metadata": {},
   "outputs": [],
   "source": [
    "def load_preds(directory_path = \"../data/results\"):\n",
    "\n",
    "\n",
    "    file_pattern = f\"{directory_path}/weekly_predictions*.parquet\"  # Adjust extension if necessary\n",
    "\n",
    "    file_list = glob.glob(file_pattern)\n",
    "    dfs = []\n",
    "\n",
    "    for filename in file_list:\n",
    "        df = pd.read_parquet(filename) \n",
    "        print(filename)\n",
    "        print(len(df.item_id.unique()))\n",
    "              \n",
    "        dfs.append(df)\n",
    "\n",
    "    concatenated_df = pd.concat(dfs, ignore_index=True)\n",
    "    concatenated_df.rename(columns={\"prediction_for_date\":\"date\"},inplace=True)\n",
    "    return concatenated_df"
   ]
  },
  {
   "cell_type": "code",
   "execution_count": null,
   "metadata": {},
   "outputs": [],
   "source": [
    "df_preds = load_preds(directory_path = \"../data/results\")"
   ]
  },
  {
   "cell_type": "code",
   "execution_count": null,
   "metadata": {},
   "outputs": [],
   "source": [
    "df_preds.head(2)"
   ]
  },
  {
   "cell_type": "code",
   "execution_count": null,
   "metadata": {},
   "outputs": [],
   "source": [
    "df_outbreak = pd.merge(df_historical,df_preds,on=['item_id','date'])"
   ]
  },
  {
   "cell_type": "code",
   "execution_count": null,
   "metadata": {},
   "outputs": [],
   "source": []
  },
  {
   "cell_type": "code",
   "execution_count": null,
   "metadata": {},
   "outputs": [],
   "source": [
    "df_outbreak['potential_outbreak'] = df_outbreak['new_cases'] > df_outbreak['pred_upper_0_99']"
   ]
  },
  {
   "cell_type": "code",
   "execution_count": null,
   "metadata": {},
   "outputs": [],
   "source": [
    "df_outbreak.head(2)"
   ]
  },
  {
   "cell_type": "code",
   "execution_count": null,
   "metadata": {},
   "outputs": [],
   "source": [
    "df_outbreak[df_outbreak.potential_outbreak==True][['item_id','year','week','date','state','label','new_cases','pred_upper_0_99','potential_outbreak']]"
   ]
  },
  {
   "cell_type": "code",
   "execution_count": null,
   "metadata": {},
   "outputs": [],
   "source": [
    "def is_outbreak_resolved(df):\n",
    "    # Step 1: Sort the DataFrame by 'item_id' and 'date'\n",
    "    df.sort_values(by=['item_id', 'date'], inplace=True)\n",
    "    # remove rows with na for new cases (assume data skips a week)\n",
    "    df = df[df.new_cases.notna()]\n",
    "    # Step 2: Create a column for potential outbreak in the past week by shifting the current week\n",
    "    df['potential_outbreak_past_week'] = df.groupby('item_id')['potential_outbreak'].shift(1)\n",
    "\n",
    "    # Step 3: Determine if the potential outbreak was resolved\n",
    "    # An outbreak is resolved if it was present last week but not this week\n",
    "    #df['Potential_Outbreak_Resolved'] = np.where((df['potential_outbreak'] == True) & (df['potential_outbreak_past_week'] == True), False, True)\n",
    "    df['Potential_Outbreak_Resolved'] = ~((df['potential_outbreak'] == True) & (df['potential_outbreak_past_week'] == True))\n",
    "\n",
    "    return df\n"
   ]
  },
  {
   "cell_type": "code",
   "execution_count": null,
   "metadata": {},
   "outputs": [],
   "source": [
    "df_outbreak = is_outbreak_resolved(df_outbreak)"
   ]
  },
  {
   "cell_type": "code",
   "execution_count": null,
   "metadata": {},
   "outputs": [],
   "source": [
    "cols_wanted = ['item_id','year','week','date','state','label','new_cases','pred_upper_0_99','potential_outbreak','potential_outbreak_past_week','Potential_Outbreak_Resolved']"
   ]
  },
  {
   "cell_type": "code",
   "execution_count": null,
   "metadata": {},
   "outputs": [],
   "source": [
    "df_outbreak.head()[cols_wanted]"
   ]
  },
  {
   "cell_type": "code",
   "execution_count": null,
   "metadata": {},
   "outputs": [],
   "source": [
    "df_outbreak[df_outbreak.Potential_Outbreak_Resolved==False][cols_wanted]"
   ]
  },
  {
   "cell_type": "code",
   "execution_count": null,
   "metadata": {},
   "outputs": [],
   "source": [
    "df_outbreak[df_outbreak.item_id=='FLORIDA_Measles, Indigenous'][cols_wanted]"
   ]
  },
  {
   "cell_type": "code",
   "execution_count": null,
   "metadata": {},
   "outputs": [],
   "source": [
    "df_outbreak[df_outbreak.item_id=='KENTUCKY_Pertussis'][cols_wanted]"
   ]
  },
  {
   "cell_type": "code",
   "execution_count": null,
   "metadata": {},
   "outputs": [],
   "source": [
    "df_outbreak[df_outbreak.item_id=='OKLAHOMA_Hepatitis B, chronic, Confirmed'][cols_wanted]"
   ]
  },
  {
   "cell_type": "code",
   "execution_count": null,
   "metadata": {},
   "outputs": [],
   "source": [
    "df_historical[df_historical.item_id=='OKLAHOMA_Hepatitis B, chronic, Confirmed']"
   ]
  },
  {
   "cell_type": "code",
   "execution_count": null,
   "metadata": {},
   "outputs": [],
   "source": [
    "df_preds3[df_preds3.item_id=='OKLAHOMA_Hepatitis B, chronic, Confirmed']"
   ]
  },
  {
   "cell_type": "code",
   "execution_count": null,
   "metadata": {},
   "outputs": [],
   "source": [
    "df_historical[(df_historical.date==pd.to_datetime(\"2024-02-26\"))]['new_cases'].notna().sum()"
   ]
  },
  {
   "cell_type": "code",
   "execution_count": null,
   "metadata": {},
   "outputs": [],
   "source": [
    "df_outbreak.label.unique()"
   ]
  },
  {
   "cell_type": "code",
   "execution_count": null,
   "metadata": {},
   "outputs": [],
   "source": [
    "df_outbreak.date.unique()[-1]"
   ]
  },
  {
   "cell_type": "code",
   "execution_count": null,
   "metadata": {},
   "outputs": [],
   "source": [
    "#date1 = pd.to_datetime(\"2024-02-12\")\n",
    "#date2 = pd.to_datetime(\"2024-02-19\")\n",
    "date_arr = df_outbreak.date.unique()\n",
    "date_latest = date_arr[-1]\n",
    "date_previous = date_arr[-2]\n",
    "\n",
    "date_previous_str = date_previous.strftime('%Y-%m-%d')\n",
    "date_latest_str = date_latest.strftime('%Y-%m-%d')\n",
    "\n",
    "week_1_data = df_outbreak[df_outbreak['date'] == date_previous]\n",
    "week_2_data = df_outbreak[df_outbreak['date'] == date_latest]\n",
    "\n",
    "potential_outbreaks_week_1 = week_1_data['potential_outbreak'].sum()  \n",
    "resolved_outbreaks_week_2 = week_2_data[(week_2_data.potential_outbreak_past_week==True)]['Potential_Outbreak_Resolved'].sum()  \n",
    "ongoing_outbreaks_week_2 = week_2_data['potential_outbreak'].sum() - resolved_outbreaks_week_2  \n",
    "ongoing_outbreaks_week_2 = week_2_data[(week_2_data['potential_outbreak_past_week'] == True) & (week_2_data['potential_outbreak'] == True)].shape[0]\n",
    "new_outbreaks_week_2 = week_2_data[(~week_2_data.potential_outbreak_past_week) & (week_2_data['potential_outbreak'])].shape[0]\n"
   ]
  },
  {
   "cell_type": "code",
   "execution_count": null,
   "metadata": {},
   "outputs": [],
   "source": [
    "week_2_data.tail()[['item_id','date','new_cases','pred_upper_0_99', 'potential_outbreak_past_week','Potential_Outbreak_Resolved',]]"
   ]
  },
  {
   "cell_type": "code",
   "execution_count": null,
   "metadata": {},
   "outputs": [],
   "source": [
    "week_2_data[(week_2_data.potential_outbreak_past_week==True) & (week_2_data.potential_outbreak==True)][['state','label','new_cases']]"
   ]
  },
  {
   "cell_type": "code",
   "execution_count": null,
   "metadata": {},
   "outputs": [],
   "source": [
    "week_2_data[(week_2_data.Potential_Outbreak_Resolved==False)][['state','label','new_cases']]"
   ]
  },
  {
   "cell_type": "code",
   "execution_count": null,
   "metadata": {},
   "outputs": [],
   "source": [
    "week_2_data[(week_2_data['potential_outbreak_past_week'] == True)][['item_id','date','new_cases','pred_upper_0_99', 'potential_outbreak_past_week','Potential_Outbreak_Resolved',]]"
   ]
  },
  {
   "cell_type": "code",
   "execution_count": null,
   "metadata": {},
   "outputs": [],
   "source": [
    "len(week_2_data[week_2_data.potential_outbreak_past_week==True])"
   ]
  },
  {
   "cell_type": "code",
   "execution_count": null,
   "metadata": {},
   "outputs": [],
   "source": [
    "week_2_data[(week_2_data.potential_outbreak_past_week==True) & (week_2_data.Potential_Outbreak_Resolved==False)]"
   ]
  },
  {
   "cell_type": "code",
   "execution_count": null,
   "metadata": {},
   "outputs": [],
   "source": [
    "ongoing_outbreaks_week_2"
   ]
  },
  {
   "cell_type": "code",
   "execution_count": null,
   "metadata": {},
   "outputs": [],
   "source": [
    "print(potential_outbreaks_week_1)\n",
    "print(resolved_outbreaks_week_2)\n",
    "print(int(ongoing_outbreaks_week_2))\n",
    "#print(new_outbreaks_week_2)\n",
    "#ongoing_outbreaks_week_2 = 15\n",
    "#resolved_outbreaks_week_2 = 140-15"
   ]
  },
  {
   "cell_type": "code",
   "execution_count": null,
   "metadata": {},
   "outputs": [],
   "source": [
    "labels = [\n",
    "    f\"{date_previous_str}<br><br>Potential Outbreaks: {int(potential_outbreaks_week_1)}\",  # 0\n",
    "    f\"Ongoing Outbreaks: {int(ongoing_outbreaks_week_2)}\",       # 1\n",
    "    f\"{date_latest_str}<br><br>Resolved Outbreaks: {int(resolved_outbreaks_week_2)}\",     # 2\n",
    "]\n",
    "\n",
    "# Adjusting source and target arrays based on the updated labels order\n",
    "source = [0, 0]  # Starting from \"Week 1 Potential Outbreaks\"\n",
    "target = [1, 2]  # Attempting to influence order: First to \"Ongoing Outbreaks\", then to \"Resolved Outbreaks\"\n",
    "value = [\n",
    "    ongoing_outbreaks_week_2,  # From Potential to Ongoing\n",
    "    resolved_outbreaks_week_2,  # From Potential to Resolved\n",
    "]\n",
    "\n",
    "# Colors remain the same; adjusting the order if needed based on your preference\n",
    "node_colors = [\n",
    "    'rgba(204,85,0,0.7)',  # Burnt orange for Potential Outbreaks\n",
    "    'rgba(255,0,0,0.9)',   # Red for Ongoing Outbreaks\n",
    "    'rgba(50,171,96,0.7)',  # Green for Resolved Outbreaks\n",
    "]\n",
    "link_colors = [\n",
    "    'rgba(255, 50, 0, 0.5)',  # A color closer to red for the transition to \"Ongoing Outbreaks\"\n",
    "    'rgba(99, 217, 100, 0.3)'  # A color closer to green for the transition to \"Resolved Outbreaks\"\n",
    "]\n",
    "hover_colors = [\n",
    "    'rgba(255, 50, 27, 0.8)',  # Brighter burnt orange for hover\n",
    "    'rgba(76, 217, 100, 0.8)'   # Brighter green for hover\n",
    "]\n",
    "node_customdata = [\n",
    "    \"Potential Outbreaks\",\n",
    "    \"Ongoing Outbreaks\",\n",
    "    \"Resolved Outbreaks\"\n",
    "]\n",
    "node_hovertemplate = '%{customdata}: %{value}<extra></extra>'\n",
    "link_customdata = [\n",
    "    \"Transition to Ongoing\",\n",
    "    \"Transition to Resolved\"\n",
    "]\n",
    "link_hovertemplate = '%{source.customdata} to %{target.customdata}: %{value}<extra></extra>'\n",
    "\n",
    "\n",
    "fig = go.Figure(data=[go.Sankey(\n",
    "    \n",
    "    node=dict(\n",
    "        pad=20,\n",
    "        thickness=20,\n",
    "      line=dict(color=\"rgba(50,50,50,0.5)\", width=1),  # Subtle border\n",
    "        label=labels,\n",
    "        color=node_colors,\n",
    "        customdata=node_customdata,\n",
    "        hovertemplate=node_hovertemplate\n",
    "    ),\n",
    "    link=dict(\n",
    "        arrowlen=15,    \n",
    "        source=source,\n",
    "        target=target,\n",
    "        value=value,\n",
    "        color=link_colors,\n",
    "        hovercolor=hover_colors,\n",
    "        customdata=link_customdata,\n",
    "        hovertemplate=link_hovertemplate\n",
    "        ))])\n",
    "\n",
    "# Updating layout\n",
    "fig.update_layout(\n",
    "title=dict(\n",
    "        text=f\"Outbreak Resolutions\",\n",
    "        font=dict(size=20, color='white', family=\"Arial, bold\"),\n",
    "        x=0.5,  # Title position with 0.5 being the center of the figure\n",
    "        xanchor='center'  # Ensuring the title is centered at the specified x position\n",
    "    ),\n",
    "    font=dict(size=15, color='white'),\n",
    "    paper_bgcolor='rgba(10,10,10,0.95)',\n",
    "    plot_bgcolor='rgba(10,10,10,0.95)',\n",
    "    width=800, \n",
    "    height=500\n",
    ")\n",
    "\n",
    "fig.show()\n"
   ]
  },
  {
   "cell_type": "code",
   "execution_count": null,
   "metadata": {},
   "outputs": [],
   "source": [
    "df_outbreak.head(2)"
   ]
  },
  {
   "cell_type": "code",
   "execution_count": null,
   "metadata": {},
   "outputs": [],
   "source": [
    "df_outbreak.head()[['item_id','year','week','date','state','label','potential_outbreak','potential_outbreak_past_week','Potential_Outbreak_Resolved']]"
   ]
  },
  {
   "cell_type": "code",
   "execution_count": null,
   "metadata": {},
   "outputs": [],
   "source": [
    "outbreak_totals = df_outbreak.groupby('date')['potential_outbreak'].sum()\n",
    "\n",
    "# Creating the line chart with a dark theme\n",
    "fig = go.Figure(layout_template=\"plotly_dark\")\n",
    "\n",
    "# Adding the total potential outbreak line with a specific color\n",
    "fig.add_trace(go.Scatter(\n",
    "    x=outbreak_totals.index,\n",
    "    y=outbreak_totals.values,\n",
    "    mode='lines+markers',\n",
    "    name='Total Potential Outbreaks',\n",
    "    line=dict(color='rgba(204,85,0,0.7)'),  # Burnt orange color for the line\n",
    "))\n",
    "\n",
    "# Update layout\n",
    "fig.update_layout(\n",
    "    title='State/Disease-specific Outbreaks',\n",
    "    #xaxis_title='',\n",
    "    #yaxis_title='Count',\n",
    ")\n",
    "\n",
    "fig.show()"
   ]
  },
  {
   "cell_type": "code",
   "execution_count": null,
   "metadata": {},
   "outputs": [],
   "source": [
    "potential_outbreak_counts = df_outbreak[df_outbreak['potential_outbreak']].groupby('date')['label'].nunique()\n",
    "\n",
    "# Creating the line chart with a dark theme\n",
    "fig = go.Figure(layout_template=\"plotly_dark\")\n",
    "\n",
    "# Adding the line for potential outbreak counts\n",
    "fig.add_trace(go.Scatter(\n",
    "    x=potential_outbreak_counts.index,\n",
    "    y=potential_outbreak_counts.values,\n",
    "    mode='lines+markers',\n",
    "    name='Potential Outbreaks',\n",
    "    line=dict(color='rgba(204,85,0,0.7)'),  # Burnt orange color for the line\n",
    "))\n",
    "\n",
    "# Update layout\n",
    "fig.update_layout(\n",
    "    title='Disease-specific Outbreaks',\n",
    "    #xaxis_title='',\n",
    "    #yaxis_title='Count',\n",
    ")\n",
    "\n",
    "fig.show()"
   ]
  },
  {
   "cell_type": "code",
   "execution_count": null,
   "metadata": {},
   "outputs": [],
   "source": [
    "df_outbreak.state.unique()"
   ]
  },
  {
   "cell_type": "code",
   "execution_count": null,
   "metadata": {},
   "outputs": [],
   "source": [
    "date_wanted = df_outbreak.date.max()\n",
    "outbreaks_per_state = df_outbreak[df_outbreak.date==date_wanted].groupby('state')['potential_outbreak'].apply(lambda x: x.astype(int).sum()).reset_index()\n"
   ]
  },
  {
   "cell_type": "code",
   "execution_count": null,
   "metadata": {},
   "outputs": [],
   "source": [
    "state_code_mapping = {\n",
    "    'ALABAMA': 'AL', 'ALASKA': 'AK', 'AMERICAN SAMOA': 'AS', 'ARIZONA': 'AZ',\n",
    "    'ARKANSAS': 'AR', 'CALIFORNIA': 'CA', 'COLORADO': 'CO', 'CONNECTICUT': 'CT',\n",
    "    'DELAWARE': 'DE', 'DISTRICT OF COLUMBIA': 'DC', 'FLORIDA': 'FL', 'GEORGIA': 'GA',\n",
    "    'GUAM': 'GU', 'HAWAII': 'HI', 'IDAHO': 'ID', 'ILLINOIS': 'IL',\n",
    "    'INDIANA': 'IN', 'IOWA': 'IA', 'KANSAS': 'KS', 'KENTUCKY': 'KY',\n",
    "    'LOUISIANA': 'LA', 'MAINE': 'ME', 'MARYLAND': 'MD', 'MASSACHUSETTS': 'MA',\n",
    "    'MICHIGAN': 'MI', 'MINNESOTA': 'MN', 'MISSISSIPPI': 'MS', 'MISSOURI': 'MO',\n",
    "    'MONTANA': 'MT', 'NEBRASKA': 'NE', 'NEVADA': 'NV', 'NEW HAMPSHIRE': 'NH',\n",
    "    'NEW JERSEY': 'NJ', 'NEW MEXICO': 'NM', 'NEW YORK CITY': 'NYC', 'NEW YORK': 'NY',\n",
    "    'NORTH CAROLINA': 'NC', 'NORTH DAKOTA': 'ND', 'NORTHERN MARIANA ISLANDS': 'MP',\n",
    "    'OHIO': 'OH', 'OKLAHOMA': 'OK', 'OREGON': 'OR', 'PENNSYLVANIA': 'PA',\n",
    "    'PUERTO RICO': 'PR', 'RHODE ISLAND': 'RI', 'SOUTH CAROLINA': 'SC',\n",
    "    'SOUTH DAKOTA': 'SD', 'TENNESSEE': 'TN', 'TEXAS': 'TX', 'U.S. VIRGIN ISLANDS': 'VI',\n",
    "    'UTAH': 'UT', 'VERMONT': 'VT', 'VIRGINIA': 'VA', 'WASHINGTON': 'WA',\n",
    "    'WEST VIRGINIA': 'WV', 'WISCONSIN': 'WI', 'WYOMING': 'WY'\n",
    "}\n"
   ]
  },
  {
   "cell_type": "code",
   "execution_count": null,
   "metadata": {},
   "outputs": [],
   "source": [
    "outbreaks_per_state['state_code'] = outbreaks_per_state['state'].map(state_code_mapping)\n",
    "territories = ['PR', 'GU', 'VI', 'AS', 'MP']  # Puerto Rico, Guam, U.S. Virgin Islands, American Samoa, Northern Mariana Islands\n",
    "\n",
    "# Filter datasets\n",
    "df_states = outbreaks_per_state[~outbreaks_per_state['state_code'].isin(territories)]\n",
    "df_territories = outbreaks_per_state[outbreaks_per_state['state_code'].isin(territories)]\n",
    "df_territories.rename(columns={\"state\":\"US Territory\",\"potential_outbreak\":\"Potential Outbreaks\"},inplace=True)"
   ]
  },
  {
   "cell_type": "code",
   "execution_count": null,
   "metadata": {},
   "outputs": [],
   "source": [
    "from IPython.display import display, HTML"
   ]
  },
  {
   "cell_type": "code",
   "execution_count": null,
   "metadata": {},
   "outputs": [],
   "source": [
    "fig = go.Figure(data=go.Choropleth(\n",
    "    locations=df_states['state_code'],\n",
    "    z=df_states['potential_outbreak'].astype(float),\n",
    "    locationmode='USA-states',\n",
    "    colorscale='Reds',\n",
    "    #colorbar_title=\"\",\n",
    "    colorbar=dict(x=0.9,thickness=5),\n",
    "    marker_line_width=0.5,\n",
    "\n",
    "    \n",
    "))\n",
    "\n",
    "fig.update_layout(\n",
    "    title_text=f\"Potential Outbreaks by State: {date_wanted.strftime('%Y-%m-%d')}\",\n",
    "    title_x=0.5,  # Center the title\n",
    "    title_y=0.9,  # Adjust the title's vertical position\n",
    "    geo_scope='usa',\n",
    "    template=\"plotly_dark\",\n",
    "    geo=dict(\n",
    "        landcolor='rgb(83, 83, 83)',\n",
    "        lakecolor='rgb(32, 32, 32)',\n",
    "        subunitcolor='rgb(100, 100, 100)',\n",
    "        countrycolor='rgb(100, 100, 100)',\n",
    "        bgcolor='rgb(23, 23, 23)',\n",
    "    ),\n",
    "    width=600, \n",
    "    height=400,\n",
    "     margin=dict(l=0, r=10, t=20, b=0)\n",
    ")\n",
    "\n",
    "fig.show()\n",
    "\n",
    "html = df_territories[[\"US Territory\",\"Potential Outbreaks\"]].to_html(index=False)\n",
    "display(HTML(html))"
   ]
  },
  {
   "cell_type": "code",
   "execution_count": null,
   "metadata": {},
   "outputs": [],
   "source": [
    "# Organizing the diseases into a dictionary where each disease is mapped to its group or class\n",
    "disease_groups = {\n",
    "    \"Anthrax\": \"Anthrax\",\n",
    "    \"Arboviral diseases, Chikungunya virus disease\": \"Arboviral diseases\",\n",
    "    \"Arboviral diseases, Eastern equine encephalitis virus disease\": \"Arboviral diseases\",\n",
    "    \"Arboviral diseases, Jamestown Canyon virus disease\": \"Arboviral diseases\",\n",
    "    \"Arboviral diseases, La Crosse virus disease\": \"Arboviral diseases\",\n",
    "    \"Arboviral diseases, Powassan virus disease\": \"Arboviral diseases\",\n",
    "    \"Arboviral diseases, St. Louis encephalitis virus disease\": \"Arboviral diseases\",\n",
    "    \"Arboviral diseases, West Nile virus disease\": \"Arboviral diseases\",\n",
    "    \"Arboviral diseases, Western equine encephalitis virus disease\": \"Arboviral diseases\",\n",
    "    \"Babesiosis\": \"Babesiosis\",\n",
    "    \"Botulism, Foodborne\": \"Botulism\",\n",
    "    \"Botulism, Infant\": \"Botulism\",\n",
    "    \"Botulism, Other (wound & unspecified)\": \"Botulism\",\n",
    "    \"Brucellosis\": \"Brucellosis\",\n",
    "    \"Campylobacteriosis\": \"Campylobacteriosis\",\n",
    "    \"Candida auris, clinical\": \"Candidiasis\",\n",
    "    \"Candida auris, screening\": \"Candidiasis\",\n",
    "    \"Carbapenemase-Producing Organisms (CPO), Total\": \"Carbapenem-resistant Enterobacteriaceae (CRE)\",\n",
    "    \"Chancroid\": \"Chancroid\",\n",
    "    \"Chlamydia trachomatis infection\": \"Chlamydial infection\",\n",
    "    \"Cholera\": \"Cholera\",\n",
    "    \"Coccidioidomycosis, Confirmed\": \"Coccidioidomycosis\",\n",
    "    \"Coccidioidomycosis, Probable\": \"Coccidioidomycosis\",\n",
    "    \"Coccidioidomycosis, total\": \"Coccidioidomycosis\",\n",
    "    \"Cronobacter invasive infection, infants, Confirmed\": \"Cronobacter infection\",\n",
    "    \"Cronobacter invasive infection, infants, Probable\": \"Cronobacter infection\",\n",
    "    \"Cryptosporidiosis\": \"Cryptosporidiosis\",\n",
    "    \"Cyclosporiasis\": \"Cyclosporiasis\",\n",
    "    \"Dengue virus infections, Dengue\": \"Dengue\",\n",
    "    \"Dengue virus infections, Dengue-like illness\": \"Dengue\",\n",
    "    \"Dengue virus infections, Severe dengue\": \"Dengue\",\n",
    "    \"Giardiasis\": \"Giardiasis\",\n",
    "    \"Gonorrhea\": \"Gonorrhea\",\n",
    "    \"Haemophilus influenzae, invasive disease, Age <5 years, Non-b serotype\": \"Haemophilus influenzae infection\",\n",
    "    \"Haemophilus influenzae, invasive disease, Age <5 years, Nontypeable\": \"Haemophilus influenzae infection\",\n",
    "    \"Haemophilus influenzae, invasive disease, Age <5 years, Serotype b\": \"Haemophilus influenzae infection\",\n",
    "    \"Haemophilus influenzae, invasive disease, Age <5 years, Unknown serotype\": \"Haemophilus influenzae infection\",\n",
    "    \"Haemophilus influenzae, invasive disease, All ages, all serotypes\": \"Haemophilus influenzae infection\",\n",
    "    \"Hansen's disease\": \"Leprosy\",\n",
    "    \"Hantavirus infection, non-hantavirus pulmonary syndrome\": \"Hantavirus infection\",\n",
    "    \"Hantavirus pulmonary syndrome\": \"Hantavirus infection\",\n",
    "    \"Hemolytic uremic syndrome post-diarrheal\": \"Hemolytic uremic syndrome\",\n",
    "    \"Hepatitis A, Confirmed\": \"Hepatitis A\",\n",
    "    \"Hepatitis B, acute, Confirmed\": \"Hepatitis B\",\n",
    "    \"Hepatitis B, acute, Probable\": \"Hepatitis B\",\n",
    "    \"Hepatitis B, chronic, Confirmed\": \"Hepatitis B\",\n",
    "    \"Hepatitis B, chronic, Probable\": \"Hepatitis B\",\n",
    "    \"Hepatitis B, perinatal, Confirmed\": \"Hepatitis B\",\n",
    "    \"Hepatitis C, acute, Confirmed\": \"Hepatitis C\",\n",
    "    \"Hepatitis C, acute, Probable\": \"Hepatitis C\",\n",
    "    \"Hepatitis C, chronic, Confirmed\": \"Hepatitis C\",\n",
    "    \"Hepatitis C, chronic, Probable\": \"Hepatitis C\",\n",
    "    \"Hepatitis C, perinatal, Confirmed\": \"Hepatitis C\",\n",
    "    \"Influenza-associated pediatric mortality\": \"Influenza\",\n",
    "    \"Invasive pneumococcal disease, age <5 years, Confirmed\": \"Pneumococcal disease\",\n",
    "    \"Invasive pneumococcal disease, age <5 years, Probable\": \"Pneumococcal disease\",\n",
    "    \"Invasive pneumococcal disease, all ages, Confirmed\": \"Pneumococcal disease\",\n",
    "    \"Invasive pneumococcal disease, all ages, Probable\": \"Pneumococcal disease\",\n",
    "    \"Legionellosis\": \"Legionellosis\",\n",
    "    \"Leptospirosis\": \"Leptospirosis\",\n",
    "    \"Listeriosis, Confirmed\": \"Listeriosis\",\n",
    "    \"Listeriosis, Probable\": \"Listeriosis\",\n",
    "    \"Malaria\": \"Malaria\",\n",
    "    \"Measles, Imported\": \"Measles\",\n",
    "    \"Measles, Indigenous\": \"Measles\",\n",
    "    \"Melioidosis\": \"Melioidosis\",\n",
    "    \"Meningococcal disease, All serogroups\": \"Meningococcal disease\",\n",
    "    \"Meningococcal disease, Other serogroups\": \"Meningococcal disease\",\n",
    "    \"Meningococcal disease, Serogroup B\": \"Meningococcal disease\",\n",
    "    \"Meningococcal disease, Serogroups ACWY\": \"Meningococcal disease\",\n",
    "    \"Meningococcal disease, Unknown serogroup\": \"Meningococcal disease\",\n",
    "    \"Mpox\": \"Mpox\",\n",
    "    \"Mumps\": \"Mumps\",\n",
    "    \"Novel Influenza A virus infections\": \"Influenza\",\n",
    "    \"Pertussis\": \"Pertussis\",\n",
    "    \"Plague\": \"Plague\",\n",
    "    \"Poliomyelitis, paralytic\": \"Poliomyelitis\",\n",
    "    \"Poliovirus infection, nonparalytic\": \"Poliomyelitis\",\n",
    "    \"Psittacosis\": \"Psittacosis\",\n",
    "    \"Q fever, Acute\": \"Q fever\",\n",
    "    \"Q fever, Chronic\": \"Q fever\",\n",
    "    \"Q fever, Total\": \"Q fever\",\n",
    "    \"Rabies, Human\": \"Rabies\",\n",
    "    \"Rubella\": \"Rubella\",\n",
    "    \"Rubella, congenital syndrome\": \"Rubella\",\n",
    "    \"Salmonella Paratyphi infection\": \"Salmonellosis\",\n",
    "    \"Salmonella Typhi infection\": \"Salmonellosis\",\n",
    "    \"Salmonellosis\": \"Salmonellosis\",\n",
    "    \"Severe acute respiratory syndrome-associated coronavirus disease\": \"SARS\",\n",
    "    \"Shiga toxin-producing Escherichia coli (STEC)\": \"STEC infection\",\n",
    "    \"Shigellosis\": \"Shigellosis\",\n",
    "    \"Smallpox\": \"Smallpox\",\n",
    "    \"Streptococcal toxic shock syndrome\": \"Toxic shock syndrome\",\n",
    "    \"Syphilis, Congenital\": \"Syphilis\",\n",
    "    \"Syphilis, Primary and secondary\": \"Syphilis\",\n",
    "    \"Tetanus\": \"Tetanus\",\n",
    "    \"Toxic shock syndrome (other than Streptococcal)\": \"Toxic shock syndrome\",\n",
    "    \"Trichinellosis\": \"Trichinellosis\",\n",
    "    \"Tuberculosis\": \"Tuberculosis\",\n",
    "    \"Tularemia\": \"Tularemia\",\n",
    "    \"Vancomycin-intermediate Staphylococcus aureus\": \"Staphylococcus aureus infection\",\n",
    "    \"Vancomycin-resistant Staphylococcus aureus\": \"Staphylococcus aureus infection\",\n",
    "    \"Varicella disease\": \"Varicella\",\n",
    "    \"Yellow fever\": \"Yellow fever\",\n",
    "    \"Zika virus disease, non-congenital\": \"Zika virus disease\",\n",
    "    \"Arboviral diseases, Jamestown Canyon  virus disease\": \"Arboviral diseases\",\n",
    "    \"Arboviral diseases, La Crosse  virus disease\": \"Arboviral diseases\",\n",
    "    \"Salmonellosis (excluding Salmonella Typhi infection and Salmonella Paratyphi infection)\": \"Salmonellosis\",\n",
    "    \"Vibriosis (any species of the family Vibrionaceae, other than toxigenic Vibrio cholerae O1 or O139), Confirmed\": \"Vibriosis\",\n",
    "    \"Vibriosis (any species of the family Vibrionaceae, other than toxigenic Vibrio cholerae O1 or O139), Probable\": \"Vibriosis\",\n",
    "    \"Viral hemorrhagic fevers, Chapare virus\": \"Viral hemorrhagic fevers\",\n",
    "    \"Viral hemorrhagic fevers, Crimean-Congo hemorrhagic fever virus\": \"Viral hemorrhagic fevers\",\n",
    "    \"Viral hemorrhagic fevers, Ebola virus\": \"Viral hemorrhagic fevers\",\n",
    "    \"Viral hemorrhagic fevers, Guanarito virus\": \"Viral hemorrhagic fevers\",\n",
    "    \"Viral hemorrhagic fevers, Junin virus\": \"Viral hemorrhagic fevers\",\n",
    "    \"Viral hemorrhagic fevers, Lassa virus\": \"Viral hemorrhagic fevers\",\n",
    "    \"Viral hemorrhagic fevers, Lujo virus\": \"Viral hemorrhagic fevers\",\n",
    "    \"Viral hemorrhagic fevers, Machupo virus\": \"Viral hemorrhagic fevers\",\n",
    "    \"Viral hemorrhagic fevers, Marburg virus\": \"Viral hemorrhagic fevers\",\n",
    "    \"Viral hemorrhagic fevers, Sabia virus\": \"Viral hemorrhagic fevers\",\n",
    "}   "
   ]
  },
  {
   "cell_type": "code",
   "execution_count": null,
   "metadata": {},
   "outputs": [],
   "source": [
    "disease_details = {\n",
    "    \"Anthrax\": {\n",
    "        \"group\": \"Anthrax\",\n",
    "        \"category\": \"Bacterial\",\n",
    "        \"body_system\": [\"Integumentary\", \"Respiratory\", \"Gastrointestinal\"],\n",
    "        \"transmission\": [\"Contact\", \"Zoonotic\"]\n",
    "    },\n",
    "    \"Arboviral diseases\": {\n",
    "        \"group\": \"Arboviral diseases\",\n",
    "        \"category\": \"Viral\",\n",
    "        \"body_system\": [\"Neurological\", \"Integumentary\"],\n",
    "        \"transmission\": [\"Vector-borne\"]\n",
    "    },\n",
    "    \"Babesiosis\": {\n",
    "        \"group\": \"Babesiosis\",\n",
    "        \"category\": \"Parasitic\",\n",
    "        \"body_system\": [\"Hematologic\"],\n",
    "        \"transmission\": [\"Vector-borne\"]\n",
    "    },\n",
    "    \"Botulism\": {\n",
    "        \"group\": \"Botulism\",\n",
    "        \"category\": \"Bacterial\",\n",
    "        \"body_system\": [\"Neurological\", \"Gastrointestinal\"],\n",
    "        \"transmission\": [\"Oral-fecal\", \"Contact\"]\n",
    "    },\n",
    "    \"Brucellosis\": {\n",
    "        \"group\": \"Brucellosis\",\n",
    "        \"category\": \"Bacterial\",\n",
    "        \"body_system\": [\"Musculoskeletal\", \"Reproductive\"],\n",
    "        \"transmission\": [\"Contact\", \"Zoonotic\"]\n",
    "    },\n",
    "    \"Campylobacteriosis\": {\n",
    "        \"group\": \"Campylobacteriosis\",\n",
    "        \"category\": \"Bacterial\",\n",
    "        \"body_system\": [\"Gastrointestinal\"],\n",
    "        \"transmission\": [\"Oral-fecal\"]\n",
    "    },\n",
    "    \"Candidiasis\": {\n",
    "        \"group\": \"Candidiasis\",\n",
    "        \"category\": \"Fungal\",\n",
    "        \"body_system\": [\"Integumentary\", \"Gastrointestinal\"],\n",
    "        \"transmission\": [\"Contact\", \"Vertical\"]\n",
    "    },\n",
    "    \"Carbapenem-resistant Enterobacteriaceae (CRE)\": {\n",
    "        \"group\": \"Carbapenem-resistant Enterobacteriaceae (CRE)\",\n",
    "        \"category\": \"Bacterial\",\n",
    "        \"body_system\": [\"Gastrointestinal\", \"Urinary\"],\n",
    "        \"transmission\": [\"Contact\"]\n",
    "    },\n",
    "    \"Chancroid\": {\n",
    "        \"group\": \"Chancroid\",\n",
    "        \"category\": \"Bacterial\",\n",
    "        \"body_system\": [\"Reproductive\"],\n",
    "        \"transmission\": [\"Sexual\"]\n",
    "    },\n",
    "    \"Chlamydial infection\": {\n",
    "        \"group\": \"Chlamydial infection\",\n",
    "        \"category\": \"Bacterial\",\n",
    "        \"body_system\": [\"Reproductive\", \"Ocular\"],\n",
    "        \"transmission\": [\"Sexual\", \"Vertical\"]\n",
    "    },\n",
    "    \"Cholera\": {\n",
    "        \"group\": \"Cholera\",\n",
    "        \"category\": \"Bacterial\",\n",
    "        \"body_system\": [\"Gastrointestinal\"],\n",
    "        \"transmission\": [\"Oral-fecal\"]\n",
    "    },\n",
    "    \"Coccidioidomycosis\": {\n",
    "        \"group\": \"Coccidioidomycosis\",\n",
    "        \"category\": \"Fungal\",\n",
    "        \"body_system\": [\"Respiratory\", \"Musculoskeletal\"],\n",
    "        \"transmission\": [\"Inhalation\"]\n",
    "    },\n",
    "    \"Cronobacter infection\": {\n",
    "        \"group\": \"Cronobacter infection\",\n",
    "        \"category\": \"Bacterial\",\n",
    "        \"body_system\": [\"Gastrointestinal\"],\n",
    "        \"transmission\": [\"Oral-fecal\", \"Contact\"]\n",
    "    },\n",
    "    \"Cryptosporidiosis\": {\n",
    "        \"group\": \"Cryptosporidiosis\",\n",
    "        \"category\": \"Parasitic\",\n",
    "        \"body_system\": [\"Gastrointestinal\"],\n",
    "        \"transmission\": [\"Oral-fecal\"]\n",
    "    },\n",
    "    \"Cyclosporiasis\": {\n",
    "        \"group\": \"Cyclosporiasis\",\n",
    "        \"category\": \"Parasitic\",\n",
    "        \"body_system\": [\"Gastrointestinal\"],\n",
    "        \"transmission\": [\"Oral-fecal\"]\n",
    "    },\n",
    "    \"Dengue\": {\n",
    "        \"group\": \"Dengue\",\n",
    "        \"category\": \"Viral\",\n",
    "        \"body_system\": [\"Hematologic\", \"Integumentary\"],\n",
    "        \"transmission\": [\"Vector-borne\"]\n",
    "    },\n",
    "    \"Giardiasis\": {\n",
    "        \"group\": \"Giardiasis\",\n",
    "        \"category\": \"Parasitic\",\n",
    "        \"body_system\": [\"Gastrointestinal\"],\n",
    "        \"transmission\": [\"Oral-fecal\"]\n",
    "    },\n",
    "    \"Gonorrhea\": {\n",
    "        \"group\": \"Gonorrhea\",\n",
    "        \"category\": \"Bacterial\",\n",
    "        \"body_system\": [\"Reproductive\"],\n",
    "        \"transmission\": [\"Sexual\"]\n",
    "    },\n",
    "    \"Haemophilus influenzae infection\": {\n",
    "        \"group\": \"Haemophilus influenzae infection\",\n",
    "        \"category\": \"Bacterial\",\n",
    "        \"body_system\": [\"Respiratory\", \"Neurological\"],\n",
    "        \"transmission\": [\"Respiratory\", \"Contact\"]\n",
    "    },\n",
    "    \"Leprosy\": {\n",
    "        \"group\": \"Leprosy\",\n",
    "        \"category\": \"Bacterial\",\n",
    "        \"body_system\": [\"Integumentary\", \"Nervous\"],\n",
    "        \"transmission\": [\"Contact\"]\n",
    "    },\n",
    "    \"Hantavirus infection\": {\n",
    "        \"group\": \"Hantavirus infection\",\n",
    "        \"category\": \"Viral\",\n",
    "        \"body_system\": [\"Respiratory\", \"Cardiovascular\"],\n",
    "        \"transmission\": [\"Inhalation\", \"Zoonotic\"]\n",
    "    },\n",
    "    \"Hemolytic uremic syndrome\": {\n",
    "        \"group\": \"Hemolytic uremic syndrome\",\n",
    "        \"category\": \"Bacterial\",\n",
    "        \"body_system\": [\"Renal\", \"Hematologic\"],\n",
    "        \"transmission\": [\"Oral-fecal\"]\n",
    "    },\n",
    "    \"Hepatitis A\": {\n",
    "        \"group\": \"Hepatitis A\",\n",
    "        \"category\": \"Viral\",\n",
    "        \"body_system\": [\"Hepatic\"],\n",
    "        \"transmission\": [\"Oral-fecal\"]\n",
    "    },\n",
    "    \"Hepatitis B\": {\n",
    "        \"group\": \"Hepatitis B\",\n",
    "        \"category\": \"Viral\",\n",
    "        \"body_system\": [\"Hepatic\"],\n",
    "        \"transmission\": [\"Bloodborne\", \"Sexual\", \"Vertical\"]\n",
    "    },\n",
    "    \"Hepatitis C\": {\n",
    "        \"group\": \"Hepatitis C\",\n",
    "        \"category\": \"Viral\",\n",
    "        \"body_system\": [\"Hepatic\"],\n",
    "        \"transmission\": [\"Bloodborne\", \"Sexual\", \"Vertical\"]\n",
    "    },\n",
    "    \"Influenza\": {\n",
    "        \"group\": \"Influenza\",\n",
    "        \"category\": \"Viral\",\n",
    "        \"body_system\": [\"Respiratory\"],\n",
    "        \"transmission\": [\"Respiratory\"]\n",
    "    },\n",
    "    \"Pneumococcal disease\": {\n",
    "        \"group\": \"Pneumococcal disease\",\n",
    "        \"category\": \"Bacterial\",\n",
    "        \"body_system\": [\"Respiratory\"],\n",
    "        \"transmission\": [\"Respiratory\", \"Contact\"]\n",
    "    },\n",
    "    \"Legionellosis\": {\n",
    "        \"group\": \"Legionellosis\",\n",
    "        \"category\": \"Bacterial\",\n",
    "        \"body_system\": [\"Respiratory\"],\n",
    "        \"transmission\": [\"Inhalation\"]\n",
    "    },\n",
    "    \"Leptospirosis\": {\n",
    "        \"group\": \"Leptospirosis\",\n",
    "        \"category\": \"Bacterial\",\n",
    "        \"body_system\": [\"Renal\", \"Hepatic\"],\n",
    "        \"transmission\": [\"Contact\", \"Waterborne\"]\n",
    "    },\n",
    "    \"Listeriosis\": {\n",
    "        \"group\": \"Listeriosis\",\n",
    "        \"category\": \"Bacterial\",\n",
    "        \"body_system\": [\"Gastrointestinal\", \"Nervous\"],\n",
    "        \"transmission\": [\"Oral-fecal\"]\n",
    "    },\n",
    "    \"Malaria\": {\n",
    "        \"group\": \"Malaria\",\n",
    "        \"category\": \"Parasitic\",\n",
    "        \"body_system\": [\"Hematologic\"],\n",
    "        \"transmission\": [\"Vector-borne\"]\n",
    "    },\n",
    "    \"Measles\": {\n",
    "        \"group\": \"Measles\",\n",
    "        \"category\": \"Viral\",\n",
    "        \"body_system\": [\"Respiratory\", \"Integumentary\"],\n",
    "        \"transmission\": [\"Respiratory\"]\n",
    "    },\n",
    "    \"Melioidosis\": {\n",
    "        \"group\": \"Melioidosis\",\n",
    "        \"category\": \"Bacterial\",\n",
    "        \"body_system\": [\"Respiratory\", \"Cutaneous\"],\n",
    "        \"transmission\": [\"Inhalation\", \"Contact\"]\n",
    "    },\n",
    "    \"Meningococcal disease\": {\n",
    "        \"group\": \"Meningococcal disease\",\n",
    "        \"category\": \"Bacterial\",\n",
    "        \"body_system\": [\"Nervous\"],\n",
    "        \"transmission\": [\"Respiratory\", \"Contact\"]\n",
    "    },\n",
    "    \"Mpox\": {\n",
    "        \"group\": \"Mpox\",\n",
    "        \"category\": \"Viral\",\n",
    "        \"body_system\": [\"Integumentary\", \"Respiratory\"],\n",
    "        \"transmission\": [\"Contact\", \"Respiratory\", \"Zoonotic\"]\n",
    "    },\n",
    "    \"Mumps\": {\n",
    "        \"group\": \"Mumps\",\n",
    "        \"category\": \"Viral\",\n",
    "        \"body_system\": [\"Respiratory\", \"Reproductive\"],\n",
    "        \"transmission\": [\"Respiratory\"]\n",
    "    },\n",
    "    \"Pertussis\": {\n",
    "        \"group\": \"Pertussis\",\n",
    "        \"category\": \"Bacterial\",\n",
    "        \"body_system\": [\"Respiratory\"],\n",
    "        \"transmission\": [\"Respiratory\"]\n",
    "    },\n",
    "    \"Plague\": {\n",
    "        \"group\": \"Plague\",\n",
    "        \"category\": \"Bacterial\",\n",
    "        \"body_system\": [\"Lymphatic\", \"Respiratory\"],\n",
    "        \"transmission\": [\"Vector-borne\", \"Contact\", \"Respiratory\"]\n",
    "    },\n",
    "    \"Poliomyelitis\": {\n",
    "        \"group\": \"Poliomyelitis\",\n",
    "        \"category\": \"Viral\",\n",
    "        \"body_system\": [\"Neurological\"],\n",
    "        \"transmission\": [\"Oral-fecal\", \"Contact\"]\n",
    "    },\n",
    "    \"Psittacosis\": {\n",
    "        \"group\": \"Psittacosis\",\n",
    "        \"category\": \"Bacterial\",\n",
    "        \"body_system\": [\"Respiratory\"],\n",
    "        \"transmission\": [\"Inhalation\"]\n",
    "    },\n",
    "    \"Q fever\": {\n",
    "        \"group\": \"Q fever\",\n",
    "        \"category\": \"Bacterial\",\n",
    "        \"body_system\": [\"Respiratory\", \"Hepatic\"],\n",
    "        \"transmission\": [\"Inhalation\", \"Contact\"]\n",
    "    },\n",
    "    \"Rabies\": {\n",
    "        \"group\": \"Rabies\",\n",
    "        \"category\": \"Viral\",\n",
    "        \"body_system\": [\"Neurological\"],\n",
    "        \"transmission\": [\"Contact\", \"Zoonotic\"]\n",
    "    },\n",
    "    \"Rubella\": {\n",
    "        \"group\": \"Rubella\",\n",
    "        \"category\": \"Viral\",\n",
    "        \"body_system\": [\"Respiratory\", \"Integumentary\"],\n",
    "        \"transmission\": [\"Respiratory\"]\n",
    "    },\n",
    "    \"Salmonellosis\": {\n",
    "        \"group\": \"Salmonellosis\",\n",
    "        \"category\": \"Bacterial\",\n",
    "        \"body_system\": [\"Gastrointestinal\"],\n",
    "        \"transmission\": [\"Oral-fecal\"]\n",
    "    },\n",
    "    \"SARS\": {\n",
    "        \"group\": \"SARS\",\n",
    "        \"category\": \"Viral\",\n",
    "        \"body_system\": [\"Respiratory\"],\n",
    "        \"transmission\": [\"Respiratory\", \"Contact\"]\n",
    "    },\n",
    "    \"STEC infection\": {\n",
    "        \"group\": \"STEC infection\",\n",
    "        \"category\": \"Bacterial\",\n",
    "        \"body_system\": [\"Gastrointestinal\"],\n",
    "        \"transmission\": [\"Oral-fecal\"]\n",
    "    },\n",
    "    \"Shigellosis\": {\n",
    "        \"group\": \"Shigellosis\",\n",
    "        \"category\": \"Bacterial\",\n",
    "        \"body_system\": [\"Gastrointestinal\"],\n",
    "        \"transmission\": [\"Oral-fecal\"]\n",
    "    },\n",
    "    \"Smallpox\": {\n",
    "        \"group\": \"Smallpox\",\n",
    "        \"category\": \"Viral\",\n",
    "        \"body_system\": [\"Integumentary\", \"Respiratory\"],\n",
    "        \"transmission\": [\"Respiratory\", \"Contact\"]\n",
    "    },\n",
    "    \"Syphilis\": {\n",
    "        \"group\": \"Syphilis\",\n",
    "        \"category\": \"Bacterial\",\n",
    "        \"body_system\": [\"Reproductive\", \"Integumentary\"],\n",
    "        \"transmission\": [\"Sexual\", \"Vertical\"]\n",
    "    },\n",
    "    \"Tetanus\": {\n",
    "        \"group\": \"Tetanus\",\n",
    "        \"category\": \"Bacterial\",\n",
    "        \"body_system\": [\"Neurological\"],\n",
    "        \"transmission\": [\"Contact\"]\n",
    "    },\n",
    "    \"Toxic shock syndrome\": {\n",
    "        \"group\": \"Toxic shock syndrome\",\n",
    "        \"category\": \"Bacterial\",\n",
    "        \"body_system\": [\"Multiple\"],\n",
    "        \"transmission\": [\"Contact\"]\n",
    "    },\n",
    "    \"Trichinellosis\": {\n",
    "        \"group\": \"Trichinellosis\",\n",
    "        \"category\": \"Parasitic\",\n",
    "        \"body_system\": [\"Musculoskeletal\", \"Gastrointestinal\"],\n",
    "        \"transmission\": [\"Oral-fecal\"]\n",
    "    },\n",
    "    \"Tuberculosis\": {\n",
    "        \"group\": \"Tuberculosis\",\n",
    "        \"category\": \"Bacterial\",\n",
    "        \"body_system\": [\"Respiratory\"],\n",
    "        \"transmission\": [\"Respiratory\"]\n",
    "    },\n",
    "    \"Tularemia\": {\n",
    "        \"group\": \"Tularemia\",\n",
    "        \"category\": \"Bacterial\",\n",
    "        \"body_system\": [\"Multiple\"],\n",
    "        \"transmission\": [\"Contact\", \"Vector-borne\", \"Inhalation\"]\n",
    "    },\n",
    "    \"Varicella\": {\n",
    "        \"group\": \"Varicella\",\n",
    "        \"category\": \"Viral\",\n",
    "        \"body_system\": [\"Integumentary\"],\n",
    "        \"transmission\": [\"Respiratory\", \"Contact\"]\n",
    "    },\n",
    "    \"Vibriosis\": {\n",
    "        \"group\": \"Vibriosis\",\n",
    "        \"category\": \"Bacterial\",\n",
    "        \"body_system\": [\"Gastrointestinal\"],\n",
    "        \"transmission\": [\"Waterborne\"]\n",
    "    },\n",
    "    \"Viral hemorrhagic fevers\": {\n",
    "        \"group\": \"Viral hemorrhagic fevers\",\n",
    "        \"category\": \"Viral\",\n",
    "        \"body_system\": [\"Multiple\"],\n",
    "        \"transmission\": [\"Contact\", \"Vector-borne\", \"Zoonotic\"]\n",
    "    },\n",
    "    \"Yellow fever\": {\n",
    "        \"group\": \"Yellow fever\",\n",
    "        \"category\": \"Viral\",\n",
    "        \"body_system\": [\"Hepatic\"],\n",
    "        \"transmission\": [\"Vector-borne\"]\n",
    "    },\n",
    "    \"Zika virus disease\": {\n",
    "        \"group\": \"Zika virus disease\",\n",
    "        \"category\": \"Viral\",\n",
    "        \"body_system\": [\"Neurological\", \"Integumentary\"],\n",
    "        \"transmission\": [\"Vector-borne\", \"Sexual\", \"Vertical\"]\n",
    "    },\n",
    "    \"Staphylococcus aureus infection\": {\n",
    "        \"group\": \"Staphylococcus aureus infection\",\n",
    "        \"category\": \"Bacterial\",\n",
    "        \"body_system\": [\"Skin\", \"Respiratory\", \"Cardiovascular\"],\n",
    "        \"transmission\": [\"Contact\"]\n",
    "    },\n",
    "}"
   ]
  },
  {
   "cell_type": "code",
   "execution_count": null,
   "metadata": {},
   "outputs": [],
   "source": [
    "# Convert group names in disease_details to a set for faster lookup\n",
    "disease_detail_groups = set(disease_details.keys())\n",
    "\n",
    "# Iterate through disease_groups to check if each disease's group exists in disease_detail_groups\n",
    "missing_diseases = []\n",
    "for disease, group in disease_groups.items():\n",
    "    if group not in disease_detail_groups:\n",
    "        missing_diseases.append(disease)\n",
    "\n",
    "# Print out any missing diseases\n",
    "if missing_diseases:\n",
    "    print(\"The following diseases are missing from the disease_details dictionary:\")\n",
    "    for disease in missing_diseases:\n",
    "        print(disease)\n",
    "else:\n",
    "    print(\"All diseases in disease_groups are accounted for in the disease_details dictionary.\")"
   ]
  },
  {
   "cell_type": "code",
   "execution_count": null,
   "metadata": {},
   "outputs": [],
   "source": [
    "# Code to verify consistency between disease_groups and disease_details\n",
    "inconsistencies = []\n",
    "missing_in_details = []\n",
    "\n",
    "# Check if the group for each disease in disease_groups exists in disease_details and matches the expected group\n",
    "for disease, group in disease_groups.items():\n",
    "    if group not in disease_details or disease_details.get(group, {}).get('group') != group:\n",
    "        inconsistencies.append((disease, group))\n",
    "\n",
    "# Check if any disease from disease_groups is missing in disease_details\n",
    "for disease in disease_groups.keys():\n",
    "    found = False\n",
    "    for detail in disease_details.values():\n",
    "        if detail['group'] == disease_groups[disease]:\n",
    "            found = True\n",
    "            break\n",
    "    if not found:\n",
    "        missing_in_details.append(disease)\n",
    "\n",
    "if inconsistencies:\n",
    "    print(\"Found inconsistencies in these disease mappings to their groups:\")\n",
    "    for inc in inconsistencies:\n",
    "        print(f\"Disease: {inc[0]}, Group: {inc[1]}\")\n",
    "else:\n",
    "    print(\"No inconsistencies in disease to group mappings.\")\n",
    "\n",
    "if missing_in_details:\n",
    "    print(\"\\nThese diseases are missing in disease_details based on their groups:\")\n",
    "    for missing in missing_in_details:\n",
    "        print(missing)\n",
    "else:\n",
    "    print(\"\\nAll diseases from disease_groups are accounted for in disease_details.\")\n"
   ]
  },
  {
   "cell_type": "code",
   "execution_count": null,
   "metadata": {},
   "outputs": [],
   "source": [
    "len(disease_groups)"
   ]
  },
  {
   "cell_type": "code",
   "execution_count": null,
   "metadata": {},
   "outputs": [],
   "source": [
    "diseases_list = df_historical.label.unique()"
   ]
  },
  {
   "cell_type": "code",
   "execution_count": null,
   "metadata": {},
   "outputs": [],
   "source": [
    "missing_diseases = [disease for disease in diseases_list if disease not in disease_groups]\n",
    "\n",
    "missing_diseases"
   ]
  },
  {
   "cell_type": "code",
   "execution_count": null,
   "metadata": {},
   "outputs": [],
   "source": [
    "df_outbreak[df_outbreak.date==df_outbreak.date.max()][cols_wanted]"
   ]
  },
  {
   "cell_type": "code",
   "execution_count": null,
   "metadata": {},
   "outputs": [],
   "source": [
    "df_outbreak_latest = df_outbreak[df_outbreak.date==df_outbreak.date.max()]"
   ]
  },
  {
   "cell_type": "code",
   "execution_count": null,
   "metadata": {},
   "outputs": [],
   "source": [
    "# Function to map disease to its details\n",
    "def map_disease_to_details(disease, attribute):\n",
    "    group = disease_groups.get(disease)\n",
    "    details = disease_details.get(group, {})\n",
    "    return details.get(attribute)\n"
   ]
  },
  {
   "cell_type": "code",
   "execution_count": null,
   "metadata": {},
   "outputs": [],
   "source": [
    "def add_disease_info(df):\n",
    "    df['group'] = df['label'].apply(lambda x: map_disease_to_details(x, 'group'))\n",
    "    df['category'] = df['label'].apply(lambda x: map_disease_to_details(x, 'category'))\n",
    "    df['body_system'] = df['label'].apply(lambda x: map_disease_to_details(x, 'body_system'))\n",
    "    df['transmission'] = df['label'].apply(lambda x: map_disease_to_details(x, 'transmission'))\n",
    "\n",
    "    df['body_system'] = df['body_system'].apply(lambda x: x if isinstance(x, list) else [x])\n",
    "    df['transmission'] = df['transmission'].apply(lambda x: x if isinstance(x, list) else [x])\n",
    "    return df"
   ]
  },
  {
   "cell_type": "code",
   "execution_count": null,
   "metadata": {},
   "outputs": [],
   "source": [
    "df_outbreak_latest = add_disease_info(df_outbreak_latest)\n",
    "df_outbreak_latest.head()"
   ]
  },
  {
   "cell_type": "code",
   "execution_count": null,
   "metadata": {},
   "outputs": [],
   "source": [
    "df_outbreak_latest[df_outbreak_latest.group.isna()].label.unique()"
   ]
  },
  {
   "cell_type": "code",
   "execution_count": null,
   "metadata": {},
   "outputs": [],
   "source": [
    "df_outbreak_latest[df_outbreak_latest.group.isna()]"
   ]
  },
  {
   "cell_type": "code",
   "execution_count": null,
   "metadata": {},
   "outputs": [],
   "source": [
    "# Counting potential outbreaks per category\n",
    "outbreak_counts_category = df_outbreak_latest[df_outbreak_latest['potential_outbreak']].groupby('category').size()\n",
    "# Display the results\n",
    "print(\"Potential Outbreak Counts Per Category:\")\n",
    "print(outbreak_counts_category)\n"
   ]
  },
  {
   "cell_type": "code",
   "execution_count": null,
   "metadata": {},
   "outputs": [],
   "source": [
    "\n",
    "# For body_system, since diseases may affect multiple systems, we need to expand the list before counting\n",
    "body_system_counts = df_outbreak_latest[df_outbreak_latest['potential_outbreak']].explode('body_system').groupby('body_system').size()\n",
    "\n",
    "print(\"\\nPotential Outbreak Counts Per Body System:\")\n",
    "print(body_system_counts)\n"
   ]
  },
  {
   "cell_type": "code",
   "execution_count": null,
   "metadata": {},
   "outputs": [],
   "source": [
    "transmission_counts = df_outbreak_latest[df_outbreak_latest['potential_outbreak']].explode('transmission').groupby('transmission').size()\n",
    "\n",
    "print(\"\\nPotential Outbreak Counts Per Transmission type:\")\n",
    "print(transmission_counts)\n"
   ]
  },
  {
   "cell_type": "code",
   "execution_count": null,
   "metadata": {},
   "outputs": [],
   "source": [
    "def bar_chart_counts(counts_df, count_type_title=\"Pathogen Type\", color=\"blue\",\n",
    "                     note_text=\"*Each instance of the same disease across different states is counted separately and may belong to multiple categories\"):\n",
    "    \n",
    "    outbreak_counts = counts_df.sort_values()\n",
    "\n",
    "    # Define color shades for consistency\n",
    "    if color == \"blue\":\n",
    "        bar_color = 'rgb(31, 119, 180)'  # Blue\n",
    "    elif color == \"green\":\n",
    "        bar_color = 'rgb(44, 160, 44)'  # Green\n",
    "    elif color == \"purple\":\n",
    "        bar_color = 'rgb(148, 103, 189)'  # Purple\n",
    "\n",
    "    # Create a horizontal bar chart with the specified color\n",
    "    fig = go.Figure(data=[go.Bar(\n",
    "        y=outbreak_counts.index,  # Pathogen types\n",
    "        x=outbreak_counts.values,  # Counts\n",
    "        orientation='h',  # Horizontal orientation\n",
    "        marker_color=bar_color  # Bar color\n",
    "    )])\n",
    "\n",
    "    # Customize layout\n",
    "    fig.update_layout(\n",
    "        title=f\"Potential Outbreak Counts Per {count_type_title}\",\n",
    "        yaxis_title=\"\",\n",
    "        xaxis_title=\"Count\",\n",
    "        template='plotly_dark',  # Dark theme\n",
    "        title_font_size=24,  # Increase title font size\n",
    "        title_x=0.5,  # Center title\n",
    "        title_y=0.9,  # Adjust title position\n",
    "    )\n",
    "\n",
    "    # Add subtitle as annotation\n",
    "    fig.update_layout(\n",
    "        annotations=[\n",
    "            dict(\n",
    "                x=0.5,\n",
    "                y=-0.25,  # Adjust this value to position the annotation below the x-axis\n",
    "                xref=\"paper\",\n",
    "                yref=\"paper\",\n",
    "                text=f\"{note_text}\",\n",
    "                showarrow=False,\n",
    "                font=dict(size=10, color=\"white\"),  # Adjust font size and color\n",
    "            )\n",
    "        ]\n",
    "    )\n",
    "\n",
    "    # Show the plot\n",
    "    fig.show()"
   ]
  },
  {
   "cell_type": "code",
   "execution_count": null,
   "metadata": {},
   "outputs": [],
   "source": [
    "bar_chart_counts(outbreak_counts_category,\"Pathogen Type\", \"blue\")"
   ]
  },
  {
   "cell_type": "code",
   "execution_count": null,
   "metadata": {},
   "outputs": [],
   "source": [
    "bar_chart_counts(body_system_counts, \"Bodily System Affected\", \"green\")"
   ]
  },
  {
   "cell_type": "code",
   "execution_count": null,
   "metadata": {},
   "outputs": [],
   "source": [
    "bar_chart_counts(transmission_counts, \"Transmission Type\", \"purple\")"
   ]
  },
  {
   "cell_type": "code",
   "execution_count": null,
   "metadata": {},
   "outputs": [],
   "source": [
    "# Counting potential outbreaks per unique disease grouped by category\n",
    "unique_outbreak_counts_category = df_outbreak_latest[df_outbreak_latest['potential_outbreak']].groupby('category')['label'].nunique()\n",
    "\n",
    "# Display the results\n",
    "print(\"Potential Outbreak Counts Per Unique Disease Grouped by Category:\")\n",
    "print(unique_outbreak_counts_category)\n"
   ]
  },
  {
   "cell_type": "code",
   "execution_count": null,
   "metadata": {},
   "outputs": [],
   "source": [
    "# Explode the body_system column to count potential outbreaks per unique disease per body system\n",
    "exploded_body_system = df_outbreak_latest[df_outbreak_latest['potential_outbreak']].explode('body_system')\n",
    "unique_outbreak_counts_body_system = exploded_body_system.groupby('body_system')['label'].nunique()\n",
    "\n",
    "# Display the results\n",
    "print(\"\\nPotential Outbreak Counts Per Unique Disease Grouped by Body System:\")\n",
    "print(unique_outbreak_counts_body_system)\n"
   ]
  },
  {
   "cell_type": "code",
   "execution_count": null,
   "metadata": {},
   "outputs": [],
   "source": [
    "# Explode the transmission column to count potential outbreaks per unique disease per transmission\n",
    "exploded_transmission = df_outbreak_latest[df_outbreak_latest['potential_outbreak']].explode('transmission')\n",
    "unique_outbreak_counts_transmission = exploded_transmission.groupby('transmission')['label'].nunique()\n",
    "\n",
    "# Display the results\n",
    "print(\"\\nPotential Outbreak Counts Per Unique Disease Grouped by Transmission:\")\n",
    "print(unique_outbreak_counts_transmission)\n"
   ]
  },
  {
   "cell_type": "code",
   "execution_count": null,
   "metadata": {},
   "outputs": [],
   "source": [
    "bar_chart_counts(unique_outbreak_counts_category,\"Pathogen Type\", \"blue\",\n",
    "                 \"*Each disease is counted once for potential outbreaks, regardless of its presence in multiple states. A single disease may belong to multiple categories\")"
   ]
  },
  {
   "cell_type": "code",
   "execution_count": null,
   "metadata": {},
   "outputs": [],
   "source": [
    "bar_chart_counts(unique_outbreak_counts_body_system, \"Bodily System Affected\", \"green\",\n",
    "                                  \"*Each disease is counted once for potential outbreaks, regardless of its presence in multiple states. A single disease may belong to multiple categories\")"
   ]
  },
  {
   "cell_type": "code",
   "execution_count": null,
   "metadata": {},
   "outputs": [],
   "source": [
    "bar_chart_counts(unique_outbreak_counts_transmission, \"Transmission Type\", \"purple\",\n",
    "                                  \"*Each disease is counted once for potential outbreaks, regardless of its presence in multiple states. A single disease may belong to multiple categories\")"
   ]
  },
  {
   "cell_type": "code",
   "execution_count": null,
   "metadata": {},
   "outputs": [],
   "source": [
    "df_outbreak_latest.head(2)"
   ]
  },
  {
   "cell_type": "code",
   "execution_count": null,
   "metadata": {},
   "outputs": [],
   "source": [
    "outbreak_counts_category = df_outbreak_latest[df_outbreak_latest['potential_outbreak']][['category']].groupby('category').size()\n",
    "body_system_counts = df_outbreak_latest[df_outbreak_latest['potential_outbreak']].explode('body_system').groupby('body_system').size()\n",
    "transmission_counts = df_outbreak_latest[df_outbreak_latest['potential_outbreak']].explode('transmission').groupby('transmission').size()\n",
    "\n",
    "unique_outbreak_counts_category = df_outbreak_latest[df_outbreak_latest['potential_outbreak']].groupby('category')['label'].nunique()\n",
    "exploded_body_system = df_outbreak_latest[df_outbreak_latest['potential_outbreak']].explode('body_system')\n",
    "unique_outbreak_counts_body_system = exploded_body_system.groupby('body_system')['label'].nunique()\n",
    "exploded_transmission = df_outbreak_latest[df_outbreak_latest['potential_outbreak']].explode('transmission')\n",
    "unique_outbreak_counts_transmission = exploded_transmission.groupby('transmission')['label'].nunique()\n"
   ]
  },
  {
   "cell_type": "code",
   "execution_count": null,
   "metadata": {},
   "outputs": [],
   "source": [
    "outbreak_counts_category = df_outbreak_latest[df_outbreak_latest['potential_outbreak']][['category']].groupby('category').size()"
   ]
  },
  {
   "cell_type": "code",
   "execution_count": null,
   "metadata": {},
   "outputs": [],
   "source": [
    "outbreak_counts_category"
   ]
  },
  {
   "cell_type": "code",
   "execution_count": null,
   "metadata": {},
   "outputs": [],
   "source": [
    "df_outbreaks_time = df_outbreak[['item_id','state','label','date','potential_outbreak','potential_outbreak_past_week','Potential_Outbreak_Resolved']]"
   ]
  },
  {
   "cell_type": "code",
   "execution_count": null,
   "metadata": {},
   "outputs": [],
   "source": [
    "# outbreaks over time\n",
    "df_outbreaks_time"
   ]
  },
  {
   "cell_type": "code",
   "execution_count": null,
   "metadata": {},
   "outputs": [],
   "source": [
    "df_outbreaks_time.date.min()"
   ]
  },
  {
   "cell_type": "code",
   "execution_count": null,
   "metadata": {},
   "outputs": [],
   "source": [
    "def agg_outbreak_counts(df, condition='potential_outbreak'):\n",
    "\n",
    "    min_date = df['date'].min()\n",
    "    max_date = df['date'].max()\n",
    "\n",
    "\n",
    "    if condition=='potential_outbreak':\n",
    "        df_outbreak_counts = df[df.potential_outbreak==True].copy()\n",
    "    elif condition=='ongoing_outbreaks':\n",
    "        df_outbreak_counts = df[(df['potential_outbreak']) & (df['potential_outbreak_past_week'])].copy()\n",
    "    elif condition=='resolved_outbreaks':\n",
    "        df_outbreak_counts = df[(df['potential_outbreak']==False) & (df['potential_outbreak_past_week']==True)].copy()\n",
    "        # need to remove the first date here, as it will always be 0 for resolved as we need one week of previous data\n",
    "        df_outbreak_counts = df_outbreak_counts[df_outbreak_counts['date']>min_date]\n",
    "        min_date = df_outbreak_counts['date'].min()\n",
    "\n",
    "    \n",
    "    all_week_starts = pd.date_range(start=min_date - pd.to_timedelta(min_date.dayofweek, unit='d'),\n",
    "                                    end=max_date, freq='7D')\n",
    "    df_all_weeks = pd.DataFrame(all_week_starts, columns=['date'])\n",
    "\n",
    "    if df_outbreak_counts.empty:\n",
    "        print(\"No data with 'potential_outbreak' as True.\")\n",
    "    else:\n",
    "        # Calculate the start of the week date for each row\n",
    "        # Adjust the `week_start` to match how your data defines the start of a week, if needed\n",
    "        df_outbreak_counts['date'] = df_outbreak_counts['date'] - pd.to_timedelta(df_outbreak_counts['date'].dt.dayofweek, unit='d')\n",
    "\n",
    "        # Group by the new 'week_start' column and count occurrences\n",
    "        weekly_counts = df_outbreak_counts.groupby('date').size().reset_index(name='count')\n",
    "        df_all_weeks = pd.merge(df_all_weeks, weekly_counts, on='date', how='left').fillna(0)\n",
    "\n",
    "    df_all_weeks['count'] = df_all_weeks['count'].astype(int)\n",
    "    df_all_weeks['cumulative_count'] = df_all_weeks['count'].cumsum()\n",
    "\n",
    "        # Now, 'weekly_counts' DataFrame will have two columns: 'week_start' and 'counts'\n",
    "    return df_all_weeks"
   ]
  },
  {
   "cell_type": "code",
   "execution_count": null,
   "metadata": {},
   "outputs": [],
   "source": [
    "def plot_time_series(df_aggregated, title=\"Time Series of Counts\", display_col='count', primary_name = 'potential outbreaks',\n",
    "                     df_secondary=None, secondary_display_col=None, secondary_name=None):\n",
    "    \"\"\"\n",
    "    Plots the time series from the aggregated DataFrame using Plotly with a dark theme. Optionally includes a second DataFrame.\n",
    "\n",
    "    Args:\n",
    "    - df_aggregated: Aggregated DataFrame with the date and count columns for the primary data.\n",
    "    - title: Title of the plot.\n",
    "    - display_col: Column name in the primary DataFrame to display.\n",
    "    - df_secondary: Optional. A secondary DataFrame to plot on the same chart.\n",
    "    - secondary_display_col: Optional. Column name in the secondary DataFrame to display.\n",
    "    - secondary_name: Optional. Name for the secondary data trace.\n",
    "\n",
    "    Returns:\n",
    "    - Plotly Figure\n",
    "    \"\"\"\n",
    "    fig = go.Figure()\n",
    "\n",
    "    # Primary dataset\n",
    "    fig.add_trace(go.Scatter(x=df_aggregated['date'], y=df_aggregated[display_col],\n",
    "                             mode='lines+markers',\n",
    "                             name=primary_name))\n",
    "\n",
    "    # Check if a secondary DataFrame is provided\n",
    "    if df_secondary is not None and secondary_display_col is not None:\n",
    "        fig.add_trace(go.Scatter(x=df_secondary['date'], y=df_secondary[secondary_display_col],\n",
    "                                 mode='lines+markers',\n",
    "                                 name=secondary_name or 'Secondary Counts'))\n",
    "\n",
    "    fig.update_layout(title=title,\n",
    "                      xaxis_title='Date',\n",
    "                      yaxis_title='Count',\n",
    "                      template=\"plotly_dark\")\n",
    "\n",
    "    return fig\n"
   ]
  },
  {
   "cell_type": "code",
   "execution_count": null,
   "metadata": {},
   "outputs": [],
   "source": [
    "df_weekly_ongoing = agg_outbreak_counts(df_outbreaks_time, 'ongoing_outbreaks')\n",
    "plot_figure = plot_time_series(df_weekly_ongoing, title=\"Number of Ongoing Outbreaks\",display_col='count', primary_name = 'potential outbreaks')\n",
    "plot_figure.show()\n"
   ]
  },
  {
   "cell_type": "code",
   "execution_count": null,
   "metadata": {},
   "outputs": [],
   "source": [
    "# Use the previously aggregated data for plotting as an example\n",
    "df_aggregated_example = agg_outbreak_counts(df_outbreaks_time,  condition='potential_outbreak')\n",
    "plot_figure = plot_time_series(df_aggregated_example, title=\"Potential Outbreaks\",display_col='count', primary_name = 'potential outbreaks')\n",
    "plot_figure.show()\n"
   ]
  },
  {
   "cell_type": "code",
   "execution_count": null,
   "metadata": {},
   "outputs": [],
   "source": [
    "# Use the previously aggregated data for plotting as an example\n",
    "df_aggregated_example = agg_outbreak_counts(df_outbreaks_time,  condition='potential_outbreak')\n",
    "plot_figure = plot_time_series(df_aggregated_example, title=\"Cumulative Potential Outbreaks\", display_col=\"cumulative_count\", primary_name = 'potential outbreaks')\n",
    "plot_figure.show()\n"
   ]
  },
  {
   "cell_type": "code",
   "execution_count": null,
   "metadata": {},
   "outputs": [],
   "source": [
    "df_weekly_ongoing = agg_outbreak_counts(df_outbreaks_time, 'ongoing_outbreaks')\n",
    "plot_figure = plot_time_series(df_weekly_ongoing, title=\"Number of Ongoing Outbreaks\", display_col=\"cumulative_count\")\n",
    "plot_figure.show()\n"
   ]
  },
  {
   "cell_type": "code",
   "execution_count": null,
   "metadata": {},
   "outputs": [],
   "source": [
    "df_weekly_resolved = agg_outbreak_counts(df_outbreaks_time, condition='resolved_outbreaks')\n",
    "df_weekly_potential = agg_outbreak_counts(df_outbreaks_time,  condition='potential_outbreak')\n",
    "fig = plot_time_series(df_weekly_potential, title=\"Cumulative Potential vs Resolved Outbreaks\", \n",
    "                       display_col='cumulative_count', primary_name = 'Potential', df_secondary=df_weekly_resolved, \n",
    "                       secondary_display_col='cumulative_count', secondary_name='Resolved')\n",
    "fig.show()\n"
   ]
  },
  {
   "cell_type": "code",
   "execution_count": null,
   "metadata": {},
   "outputs": [],
   "source": [
    "fig = plot_time_series(df_weekly_potential, title=\"Potential vs Resolved Outbreaks\", \n",
    "                       display_col='count', primary_name = 'Potential', df_secondary=df_weekly_resolved, \n",
    "                       secondary_display_col='count', secondary_name='Resolved')\n",
    "fig.show()"
   ]
  },
  {
   "cell_type": "code",
   "execution_count": null,
   "metadata": {},
   "outputs": [],
   "source": []
  }
 ],
 "metadata": {
  "kernelspec": {
   "display_name": "Python 3",
   "language": "python",
   "name": "python3"
  },
  "language_info": {
   "codemirror_mode": {
    "name": "ipython",
    "version": 3
   },
   "file_extension": ".py",
   "mimetype": "text/x-python",
   "name": "python",
   "nbconvert_exporter": "python",
   "pygments_lexer": "ipython3",
   "version": "3.11.8"
  }
 },
 "nbformat": 4,
 "nbformat_minor": 2
}
